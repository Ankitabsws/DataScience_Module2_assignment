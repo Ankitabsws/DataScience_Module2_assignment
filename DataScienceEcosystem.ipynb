{
  "metadata": {
    "language_info": {
      "name": ""
    },
    "kernelspec": {
      "name": "python",
      "display_name": "Python (Pyodide)",
      "language": "python"
    }
  },
  "nbformat_minor": 4,
  "nbformat": 4,
  "cells": [
    {
      "cell_type": "markdown",
      "source": "# Data Science Tools and Ecosystem\n",
      "metadata": {}
    },
    {
      "cell_type": "markdown",
      "source": "In this notebook, Data Science Tools and Ecosystem are summarized.",
      "metadata": {}
    },
    {
      "cell_type": "markdown",
      "source": "__Objectives:__\n-  Table\n-  Ordered list\n-  Header\n-  Tools",
      "metadata": {}
    },
    {
      "cell_type": "markdown",
      "source": "Some of the popular languages that Data Scientists use are:\n1. Python\n2. R\n3. Scala\n4. Julia",
      "metadata": {}
    },
    {
      "cell_type": "markdown",
      "source": "Some of the commonly used libraries used by Data Scientists include:\n1. NumPy\n2. Pandas\n3. PyTorch\n4. Matplotlib\n5. TensorFlow",
      "metadata": {}
    },
    {
      "cell_type": "markdown",
      "source": "|Data Science Tools|\n|:----------------:|\n|TensorFlow|\n|SQL|\n|Python|\n|Power BI|",
      "metadata": {}
    },
    {
      "cell_type": "markdown",
      "source": "### Below are a few examples of evaluating arithmetic expressions in Python\n\nx = 40\ny = 12\n  \nadd = x + y\nsub = x - y\npro = x * y\ndiv = x / y\n  \nprint(add)\nprint(sub)\nprint(pro)\nprint(div)\n\nOutput\n52\n28\n480\n3.3333333333333335\n",
      "metadata": {}
    },
    {
      "cell_type": "markdown",
      "source": "## Author: \nAnkita Biswas",
      "metadata": {}
    },
    {
      "cell_type": "code",
      "source": "",
      "metadata": {},
      "execution_count": null,
      "outputs": []
    }
  ]
}